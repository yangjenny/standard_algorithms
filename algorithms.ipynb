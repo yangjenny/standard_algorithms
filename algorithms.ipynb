{
 "cells": [
  {
   "cell_type": "markdown",
   "id": "2ec4ac57-ca0b-4f0d-8510-b434aea5a692",
   "metadata": {},
   "source": [
    "These are the standard models used in the publication \"Generalizability Assessment of AI Models Across Hospitals: A Comparative Study in Low-Middle Income and High Income Countries\" (https://www.medrxiv.org/content/10.1101/2023.11.05.23298109v1).\n",
    "\n",
    "Data from OUH studied here are available from the Infections in Oxfordshire Research Database (https://oxfordbrc.nihr.ac.uk/research-themes/modernising-medical-microbiology-and-big-infection-diagnostics/infections-in-oxfordshire-research-database-iord/), subject to an application meeting the ethical and governance requirements of the Database. Data from UHB, PUH and BH are available on reasonable request to the respective trusts, subject to HRA requirements.\n",
    "\n",
    "Data from HTD and NHTD are available from the CCAA Vietnam Data Access Committee, subject to an application meeting the ethical and governance requirements."
   ]
  },
  {
   "cell_type": "markdown",
   "id": "68f4cb40-738f-41e5-bd61-18a5a2979732",
   "metadata": {},
   "source": [
    "## Load dataset"
   ]
  },
  {
   "cell_type": "code",
   "execution_count": 1,
   "id": "d29b47b9-8fab-4899-bbd7-270855b21902",
   "metadata": {},
   "outputs": [
    {
     "name": "stdout",
     "output_type": "stream",
     "text": [
      "   age          workclass  fnlwgt   education  education-num  \\\n",
      "0   39          State-gov   77516   Bachelors             13   \n",
      "1   50   Self-emp-not-inc   83311   Bachelors             13   \n",
      "2   38            Private  215646     HS-grad              9   \n",
      "3   53            Private  234721        11th              7   \n",
      "4   28            Private  338409   Bachelors             13   \n",
      "\n",
      "        marital-status          occupation    relationship    race      sex  \\\n",
      "0        Never-married        Adm-clerical   Not-in-family   White     Male   \n",
      "1   Married-civ-spouse     Exec-managerial         Husband   White     Male   \n",
      "2             Divorced   Handlers-cleaners   Not-in-family   White     Male   \n",
      "3   Married-civ-spouse   Handlers-cleaners         Husband   Black     Male   \n",
      "4   Married-civ-spouse      Prof-specialty            Wife   Black   Female   \n",
      "\n",
      "   capital-gain  capital-loss  hours-per-week  native-country  income  \n",
      "0          2174             0              40   United-States   <=50K  \n",
      "1             0             0              13   United-States   <=50K  \n",
      "2             0             0              40   United-States   <=50K  \n",
      "3             0             0              40   United-States   <=50K  \n",
      "4             0             0              40            Cuba   <=50K  \n"
     ]
    }
   ],
   "source": [
    "#This script automatically loads the Adult (Census) dataset (replace with your own data)\n",
    "\n",
    "import pandas as pd\n",
    "\n",
    "# Define column names\n",
    "column_names = ['age', 'workclass', 'fnlwgt', 'education', 'education-num', 'marital-status', 'occupation',\n",
    "                'relationship', 'race', 'sex', 'capital-gain', 'capital-loss', 'hours-per-week', 'native-country', 'income']\n",
    "\n",
    "# Load dataset\n",
    "url = 'https://archive.ics.uci.edu/ml/machine-learning-databases/adult/adult.data'\n",
    "df = pd.read_csv(url, header=None, names=column_names)\n",
    "\n",
    "# Display the first few rows of the dataset\n",
    "print(df.head())"
   ]
  },
  {
   "cell_type": "code",
   "execution_count": 2,
   "id": "febe3740-ceec-4d4b-8169-2b3e80f296ae",
   "metadata": {},
   "outputs": [
    {
     "name": "stdout",
     "output_type": "stream",
     "text": [
      "Training set shape: (26048, 14) (26048,)\n",
      "Testing set shape: (6513, 14) (6513,)\n"
     ]
    }
   ],
   "source": [
    "from sklearn.model_selection import train_test_split\n",
    "from sklearn.preprocessing import LabelEncoder, StandardScaler\n",
    "\n",
    "# Encode categorical variables\n",
    "label_encoders = {}\n",
    "for column in df.select_dtypes(include=['object']).columns:\n",
    "    label_encoders[column] = LabelEncoder()\n",
    "    df[column] = label_encoders[column].fit_transform(df[column])\n",
    "\n",
    "# Define features (X) and target variable (y)\n",
    "X = df.drop('income', axis=1)  # Features\n",
    "y = df['income']  # Target variable\n",
    "\n",
    "# Normalize numerical features\n",
    "scaler = StandardScaler()\n",
    "X_scaled = scaler.fit_transform(X)\n",
    "\n",
    "# Split the dataset into training and testing sets\n",
    "X_train, X_test, y_train, y_test = train_test_split(X_scaled, y, test_size=0.2, random_state=42)\n",
    "\n",
    "# Print the shapes of the training and testing sets\n",
    "print(\"Training set shape:\", X_train.shape, y_train.shape)\n",
    "print(\"Testing set shape:\", X_test.shape, y_test.shape)"
   ]
  },
  {
   "cell_type": "code",
   "execution_count": 3,
   "id": "1cd909ae-5c32-49a8-abb1-9cdcbccf486f",
   "metadata": {},
   "outputs": [],
   "source": [
    "from sklearn.metrics import roc_auc_score"
   ]
  },
  {
   "cell_type": "markdown",
   "id": "fd5a7444-62d2-4e78-bdf3-47cb5e041d9a",
   "metadata": {},
   "source": [
    "## Logistic Regression"
   ]
  },
  {
   "cell_type": "code",
   "execution_count": 4,
   "id": "e476efda-7dac-42ae-9969-0d4355329b18",
   "metadata": {},
   "outputs": [
    {
     "name": "stdout",
     "output_type": "stream",
     "text": [
      "AUC: 0.85676430940089\n"
     ]
    }
   ],
   "source": [
    "from sklearn.linear_model import LogisticRegression\n",
    "\n",
    "model = LogisticRegression()\n",
    "\n",
    "model.fit(X_train, y_train)\n",
    "\n",
    "# Predict on the test set\n",
    "y_pred = model.predict_proba(X_test)[:, 1]\n",
    "\n",
    "# Calculate accuracy\n",
    "auc = roc_auc_score(y_test, y_pred)\n",
    "print(\"AUC:\", auc)"
   ]
  },
  {
   "cell_type": "markdown",
   "id": "9d8e005a-37a5-4b74-bcce-6ef0bfbc12eb",
   "metadata": {},
   "source": [
    "## XGBoost"
   ]
  },
  {
   "cell_type": "code",
   "execution_count": 5,
   "id": "1d5eb5dc-fe14-4047-9fcc-396b36cac2d4",
   "metadata": {},
   "outputs": [
    {
     "name": "stdout",
     "output_type": "stream",
     "text": [
      "AUC: 0.9272358853470467\n"
     ]
    }
   ],
   "source": [
    "from xgboost import XGBClassifier\n",
    "\n",
    "model = XGBClassifier()\n",
    "\n",
    "model.fit(X_train, y_train)\n",
    "\n",
    "# Predict on the test set\n",
    "y_pred = model.predict_proba(X_test)[:, 1]\n",
    "\n",
    "# Calculate accuracy\n",
    "auc = roc_auc_score(y_test, y_pred)\n",
    "print(\"AUC:\", auc)"
   ]
  },
  {
   "cell_type": "markdown",
   "id": "b6099835-6f3e-4b24-8aa0-6a0c19820210",
   "metadata": {},
   "source": [
    "## Neural Network"
   ]
  },
  {
   "cell_type": "code",
   "execution_count": 6,
   "id": "c9361730-f22a-4223-8fae-059657e018f4",
   "metadata": {},
   "outputs": [
    {
     "name": "stdout",
     "output_type": "stream",
     "text": [
      "Classifier(\n",
      "  (hidden1): Linear(in_features=14, out_features=10, bias=True)\n",
      "  (act1): ReLU()\n",
      "  (output): Linear(in_features=10, out_features=1, bias=True)\n",
      "  (act_output): Sigmoid()\n",
      ")\n"
     ]
    }
   ],
   "source": [
    "import numpy as np\n",
    "import torch\n",
    "import torch.nn as nn\n",
    "import torch.optim as optim\n",
    "\n",
    "X = torch.tensor(np.array(X_train), dtype=torch.float32)\n",
    "\n",
    "y_train = np.array(y_train).reshape(-1, 1)\n",
    "\n",
    "# define the model\n",
    "num_hidden_nodes = 10\n",
    "class Classifier(nn.Module):\n",
    "    def __init__(self):\n",
    "        super().__init__()\n",
    "        self.hidden1 = nn.Linear(X_train.shape[1], num_hidden_nodes)\n",
    "        self.act1 = nn.ReLU()\n",
    "        self.output = nn.Linear(num_hidden_nodes, 1)\n",
    "        self.act_output = nn.Sigmoid()\n",
    " \n",
    "    def forward(self, x):\n",
    "        x = self.act1(self.hidden1(x))\n",
    "        x = self.act_output(self.output(x))\n",
    "        return x\n",
    "\n",
    "model = Classifier()\n",
    "print(model)\n"
   ]
  },
  {
   "cell_type": "code",
   "execution_count": 7,
   "id": "d747d868-6f8c-4287-9bab-b3976e48f277",
   "metadata": {},
   "outputs": [],
   "source": [
    "n_epochs = 10\n",
    "batch_size = 16"
   ]
  },
  {
   "cell_type": "code",
   "execution_count": 8,
   "id": "3ee9a50b-5e96-4562-9bd5-aaedda61926f",
   "metadata": {},
   "outputs": [
    {
     "name": "stderr",
     "output_type": "stream",
     "text": [
      "/tmp/ipykernel_16937/4251493830.py:11: UserWarning: To copy construct from a tensor, it is recommended to use sourceTensor.clone().detach() or sourceTensor.clone().detach().requires_grad_(True), rather than torch.tensor(sourceTensor).\n",
      "  Xbatch=torch.tensor(Xbatch)\n",
      "/home/ball5800/Development/my_python_upd/lib/python3.8/site-packages/torch/autograd/__init__.py:251: UserWarning: CUDA initialization: The NVIDIA driver on your system is too old (found version 11060). Please update your GPU driver by downloading and installing a new version from the URL: http://www.nvidia.com/Download/index.aspx Alternatively, go to: https://pytorch.org to install a PyTorch version that has been compiled with your version of the CUDA driver. (Triggered internally at ../c10/cuda/CUDAFunctions.cpp:108.)\n",
      "  Variable._execution_engine.run_backward(  # Calls into the C++ engine to run the backward pass\n"
     ]
    },
    {
     "name": "stdout",
     "output_type": "stream",
     "text": [
      "Finished epoch 0, latest loss 0.2388536036014557\n",
      "Finished epoch 1, latest loss 0.22713789343833923\n",
      "Finished epoch 2, latest loss 0.22442805767059326\n",
      "Finished epoch 3, latest loss 0.2101062834262848\n",
      "Finished epoch 4, latest loss 0.1991681009531021\n",
      "Finished epoch 5, latest loss 0.20513883233070374\n",
      "Finished epoch 6, latest loss 0.2097243368625641\n",
      "Finished epoch 7, latest loss 0.2076314091682434\n",
      "Finished epoch 8, latest loss 0.20745497941970825\n",
      "Finished epoch 9, latest loss 0.20936359465122223\n"
     ]
    }
   ],
   "source": [
    "# train the model\n",
    "loss_fn   = nn.BCELoss()  # binary cross entropy\n",
    "\n",
    "optimizer = optim.Adam(model.parameters(), lr=0.01)\n",
    "\n",
    "for epoch in range(n_epochs):\n",
    "    #print(ncr_weight)\n",
    "    for i in range(0, len(X_train), batch_size):\n",
    "        Xbatch = X[i:i+batch_size]\n",
    "        ybatch = y_train[i:i+batch_size]\n",
    "        Xbatch=torch.tensor(Xbatch)\n",
    "        ybatch=torch.tensor(ybatch)\n",
    "        y_pred = model(Xbatch)\n",
    "        y_pred = y_pred[:,0]\n",
    "        loss = loss_fn(y_pred.to(torch.float), ybatch[:,0].to(torch.float))\n",
    "        optimizer.zero_grad()\n",
    "        loss.backward()\n",
    "        optimizer.step()\n",
    "    print(f'Finished epoch {epoch}, latest loss {loss}')\n",
    "\n",
    "torch.save({'epoch': epoch,\n",
    "            'model_state_dict': model.state_dict(),'optimizer_state_dict': optimizer.state_dict(),\n",
    "            'loss': loss,}, 'model_checkpoint.pt')"
   ]
  },
  {
   "cell_type": "code",
   "execution_count": 9,
   "id": "ab4e915e-9a1b-4213-99d0-7687fa3abe0a",
   "metadata": {},
   "outputs": [
    {
     "name": "stdout",
     "output_type": "stream",
     "text": [
      "AUC: 0.9045867775939923\n"
     ]
    }
   ],
   "source": [
    "X_test = torch.tensor(X_test, dtype=torch.float32)\n",
    "#y_test = torch.tensor(y_test, dtype=torch.float32).reshape(-1, 1)\n",
    "y_pred = model(X_test).detach().numpy()[:,0]\n",
    "\n",
    "# Calculate accuracy\n",
    "auc = roc_auc_score(y_test, y_pred)\n",
    "print(\"AUC:\", auc)"
   ]
  }
 ],
 "metadata": {
  "kernelspec": {
   "display_name": "Python 3 (ipykernel)",
   "language": "python",
   "name": "python3"
  },
  "language_info": {
   "codemirror_mode": {
    "name": "ipython",
    "version": 3
   },
   "file_extension": ".py",
   "mimetype": "text/x-python",
   "name": "python",
   "nbconvert_exporter": "python",
   "pygments_lexer": "ipython3",
   "version": "3.8.3"
  }
 },
 "nbformat": 4,
 "nbformat_minor": 5
}
