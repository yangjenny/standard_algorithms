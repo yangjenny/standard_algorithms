{
 "cells": [
  {
   "cell_type": "markdown",
   "id": "2ec4ac57-ca0b-4f0d-8510-b434aea5a692",
   "metadata": {},
   "source": [
    "These are the standard models used in the publication \"Generalizability Assessment of AI Models Across Hospitals: A Comparative Study in Low-Middle Income and High Income Countries\" (https://www.medrxiv.org/content/10.1101/2023.11.05.23298109v1).\n",
    "\n",
    "The "
   ]
  },
  {
   "cell_type": "markdown",
   "id": "68f4cb40-738f-41e5-bd61-18a5a2979732",
   "metadata": {},
   "source": [
    "## Load dataset"
   ]
  },
  {
   "cell_type": "code",
   "execution_count": 28,
   "id": "d29b47b9-8fab-4899-bbd7-270855b21902",
   "metadata": {},
   "outputs": [
    {
     "name": "stdout",
     "output_type": "stream",
     "text": [
      "   age          workclass  fnlwgt   education  education-num  \\\n",
      "0   39          State-gov   77516   Bachelors             13   \n",
      "1   50   Self-emp-not-inc   83311   Bachelors             13   \n",
      "2   38            Private  215646     HS-grad              9   \n",
      "3   53            Private  234721        11th              7   \n",
      "4   28            Private  338409   Bachelors             13   \n",
      "\n",
      "        marital-status          occupation    relationship    race      sex  \\\n",
      "0        Never-married        Adm-clerical   Not-in-family   White     Male   \n",
      "1   Married-civ-spouse     Exec-managerial         Husband   White     Male   \n",
      "2             Divorced   Handlers-cleaners   Not-in-family   White     Male   \n",
      "3   Married-civ-spouse   Handlers-cleaners         Husband   Black     Male   \n",
      "4   Married-civ-spouse      Prof-specialty            Wife   Black   Female   \n",
      "\n",
      "   capital-gain  capital-loss  hours-per-week  native-country  income  \n",
      "0          2174             0              40   United-States   <=50K  \n",
      "1             0             0              13   United-States   <=50K  \n",
      "2             0             0              40   United-States   <=50K  \n",
      "3             0             0              40   United-States   <=50K  \n",
      "4             0             0              40            Cuba   <=50K  \n"
     ]
    }
   ],
   "source": [
    "#This script automatically loads the Adult (Census) dataset (replace with your own data)\n",
    "\n",
    "import pandas as pd\n",
    "\n",
    "# Define column names\n",
    "column_names = ['age', 'workclass', 'fnlwgt', 'education', 'education-num', 'marital-status', 'occupation',\n",
    "                'relationship', 'race', 'sex', 'capital-gain', 'capital-loss', 'hours-per-week', 'native-country', 'income']\n",
    "\n",
    "# Load dataset\n",
    "url = 'https://archive.ics.uci.edu/ml/machine-learning-databases/adult/adult.data'\n",
    "df = pd.read_csv(url, header=None, names=column_names)\n",
    "\n",
    "# Display the first few rows of the dataset\n",
    "print(df.head())"
   ]
  },
  {
   "cell_type": "code",
   "execution_count": 31,
   "id": "febe3740-ceec-4d4b-8169-2b3e80f296ae",
   "metadata": {},
   "outputs": [
    {
     "name": "stdout",
     "output_type": "stream",
     "text": [
      "Training set shape: (26048, 14) (26048,)\n",
      "Testing set shape: (6513, 14) (6513,)\n"
     ]
    }
   ],
   "source": [
    "from sklearn.model_selection import train_test_split\n",
    "from sklearn.preprocessing import LabelEncoder, StandardScaler\n",
    "\n",
    "# Encode categorical variables\n",
    "label_encoders = {}\n",
    "for column in df.select_dtypes(include=['object']).columns:\n",
    "    label_encoders[column] = LabelEncoder()\n",
    "    df[column] = label_encoders[column].fit_transform(df[column])\n",
    "\n",
    "# Define features (X) and target variable (y)\n",
    "X = df.drop('income', axis=1)  # Features\n",
    "y = df['income']  # Target variable\n",
    "\n",
    "# Normalize numerical features\n",
    "scaler = StandardScaler()\n",
    "X_scaled = scaler.fit_transform(X)\n",
    "\n",
    "# Split the dataset into training and testing sets\n",
    "X_train, X_test, y_train, y_test = train_test_split(X_scaled, y, test_size=0.2, random_state=42)\n",
    "\n",
    "# Print the shapes of the training and testing sets\n",
    "print(\"Training set shape:\", X_train.shape, y_train.shape)\n",
    "print(\"Testing set shape:\", X_test.shape, y_test.shape)"
   ]
  },
  {
   "cell_type": "code",
   "execution_count": 32,
   "id": "1cd909ae-5c32-49a8-abb1-9cdcbccf486f",
   "metadata": {},
   "outputs": [],
   "source": [
    "from sklearn.metrics import roc_auc_score"
   ]
  },
  {
   "cell_type": "markdown",
   "id": "fd5a7444-62d2-4e78-bdf3-47cb5e041d9a",
   "metadata": {},
   "source": [
    "## Logistic Regression"
   ]
  },
  {
   "cell_type": "code",
   "execution_count": 33,
   "id": "e476efda-7dac-42ae-9969-0d4355329b18",
   "metadata": {},
   "outputs": [
    {
     "name": "stdout",
     "output_type": "stream",
     "text": [
      "AUC: 0.85676430940089\n"
     ]
    }
   ],
   "source": [
    "from sklearn.linear_model import LogisticRegression\n",
    "\n",
    "model = LogisticRegression()\n",
    "\n",
    "model.fit(X_train, y_train)\n",
    "\n",
    "# Predict on the test set\n",
    "y_pred = model.predict_proba(X_test)[:, 1]\n",
    "\n",
    "# Calculate accuracy\n",
    "auc = roc_auc_score(y_test, y_pred)\n",
    "print(\"AUC:\", auc)"
   ]
  },
  {
   "cell_type": "markdown",
   "id": "9d8e005a-37a5-4b74-bcce-6ef0bfbc12eb",
   "metadata": {},
   "source": [
    "## XGBoost"
   ]
  },
  {
   "cell_type": "code",
   "execution_count": 34,
   "id": "1d5eb5dc-fe14-4047-9fcc-396b36cac2d4",
   "metadata": {},
   "outputs": [
    {
     "name": "stdout",
     "output_type": "stream",
     "text": [
      "AUC: 0.9272358853470467\n"
     ]
    }
   ],
   "source": [
    "from xgboost import XGBClassifier\n",
    "\n",
    "model = XGBClassifier()\n",
    "\n",
    "model.fit(X_train, y_train)\n",
    "\n",
    "# Predict on the test set\n",
    "y_pred = model.predict_proba(X_test)[:, 1]\n",
    "\n",
    "# Calculate accuracy\n",
    "auc = roc_auc_score(y_test, y_pred)\n",
    "print(\"AUC:\", auc)"
   ]
  },
  {
   "cell_type": "markdown",
   "id": "b6099835-6f3e-4b24-8aa0-6a0c19820210",
   "metadata": {},
   "source": [
    "## Neural Network"
   ]
  },
  {
   "cell_type": "code",
   "execution_count": 37,
   "id": "f665fed9-f2ae-43d8-966e-3c6077445cc4",
   "metadata": {},
   "outputs": [
    {
     "name": "stdout",
     "output_type": "stream",
     "text": [
      "Epoch 1/15\n",
      "1628/1628 [==============================] - 1s 684us/step - loss: 0.4319 - accuracy: 0.7938\n",
      "Epoch 2/15\n",
      "1628/1628 [==============================] - 1s 675us/step - loss: 0.3534 - accuracy: 0.8358\n",
      "Epoch 3/15\n",
      "1628/1628 [==============================] - 1s 677us/step - loss: 0.3386 - accuracy: 0.8397\n",
      "Epoch 4/15\n",
      "1628/1628 [==============================] - 1s 690us/step - loss: 0.3331 - accuracy: 0.8436\n",
      "Epoch 5/15\n",
      "1628/1628 [==============================] - 1s 649us/step - loss: 0.3305 - accuracy: 0.8454\n",
      "Epoch 6/15\n",
      "1628/1628 [==============================] - 1s 671us/step - loss: 0.3288 - accuracy: 0.8447\n",
      "Epoch 7/15\n",
      "1628/1628 [==============================] - 1s 683us/step - loss: 0.3275 - accuracy: 0.8457\n",
      "Epoch 8/15\n",
      "1628/1628 [==============================] - 1s 639us/step - loss: 0.3265 - accuracy: 0.8460\n",
      "Epoch 9/15\n",
      "1628/1628 [==============================] - 1s 664us/step - loss: 0.3257 - accuracy: 0.8470\n",
      "Epoch 10/15\n",
      "1628/1628 [==============================] - 1s 675us/step - loss: 0.3249 - accuracy: 0.8473\n",
      "Epoch 11/15\n",
      "1628/1628 [==============================] - 1s 688us/step - loss: 0.3246 - accuracy: 0.8466\n",
      "Epoch 12/15\n",
      "1628/1628 [==============================] - 1s 658us/step - loss: 0.3240 - accuracy: 0.8471\n",
      "Epoch 13/15\n",
      "1628/1628 [==============================] - 1s 664us/step - loss: 0.3237 - accuracy: 0.8472\n",
      "Epoch 14/15\n",
      "1628/1628 [==============================] - 1s 676us/step - loss: 0.3234 - accuracy: 0.8485\n",
      "Epoch 15/15\n",
      "1628/1628 [==============================] - 1s 644us/step - loss: 0.3228 - accuracy: 0.8483\n",
      "204/204 [==============================] - 0s 647us/step - loss: 0.3198 - accuracy: 0.8532\n",
      "Accuracy: 0.8532166481018066\n"
     ]
    }
   ],
   "source": [
    "import pandas as pd\n",
    "from sklearn.model_selection import train_test_split\n",
    "from sklearn.metrics import accuracy_score\n",
    "from keras.models import Sequential\n",
    "from keras.layers import Dense\n",
    "\n",
    "# Define the neural network model\n",
    "model = Sequential()\n",
    "model.add(Dense(10, input_dim=X_train.shape[1], activation='relu'))\n",
    "model.add(Dense(1, activation='sigmoid'))\n",
    "\n",
    "# Compile the model\n",
    "model.compile(optimizer='adam', loss='binary_crossentropy', metrics=['accuracy'])\n",
    "\n",
    "# Train the model\n",
    "model.fit(X_train, y_train, epochs=15, batch_size=16, verbose=1)\n"
   ]
  },
  {
   "cell_type": "code",
   "execution_count": 40,
   "id": "105041e6-9948-435f-a29e-2bc0a79ca284",
   "metadata": {},
   "outputs": [
    {
     "name": "stdout",
     "output_type": "stream",
     "text": [
      "204/204 [==============================] - 0s 604us/step\n",
      "AUC: 0.9059273440786451\n"
     ]
    }
   ],
   "source": [
    "y_pred = model.predict(X_test)\n",
    "\n",
    "# Calculate accuracy\n",
    "auc = roc_auc_score(y_test, y_pred)\n",
    "print(\"AUC:\", auc)"
   ]
  }
 ],
 "metadata": {
  "kernelspec": {
   "display_name": "Python 3 (ipykernel)",
   "language": "python",
   "name": "python3"
  },
  "language_info": {
   "codemirror_mode": {
    "name": "ipython",
    "version": 3
   },
   "file_extension": ".py",
   "mimetype": "text/x-python",
   "name": "python",
   "nbconvert_exporter": "python",
   "pygments_lexer": "ipython3",
   "version": "3.8.3"
  }
 },
 "nbformat": 4,
 "nbformat_minor": 5
}
